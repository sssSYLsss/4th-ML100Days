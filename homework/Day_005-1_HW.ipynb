{
 "cells": [
  {
   "cell_type": "markdown",
   "metadata": {},
   "source": [
    "# [作業目標]\n",
    "- 利用範例的創建方式, 創建一組資料, 並練習如何取出最大值"
   ]
  },
  {
   "cell_type": "markdown",
   "metadata": {},
   "source": [
    "# [作業重點]\n",
    "- 練習創立 DataFrame (In[2])\n",
    "- 如何取出口數最多的國家 (In[3], Out[3])"
   ]
  },
  {
   "cell_type": "markdown",
   "metadata": {},
   "source": [
    "## 練習時間\n",
    "在小量的資料上，我們用眼睛就可以看得出來程式碼是否有跑出我們理想中的結果\n",
    "\n",
    "請嘗試想像一個你需要的資料結構 (裡面的值可以是隨機的)，然後用上述的方法把它變成 pandas DataFrame\n",
    "\n",
    "#### Ex: 想像一個 dataframe 有兩個欄位，一個是國家，一個是人口，求人口數最多的國家\n",
    "\n",
    "### Hints: [隨機產生數值](https://blog.csdn.net/christianashannon/article/details/78867204)"
   ]
  },
  {
   "cell_type": "code",
   "execution_count": 12,
   "metadata": {},
   "outputs": [
    {
     "name": "stdout",
     "output_type": "stream",
     "text": [
      "              國家        人口\n",
      "0         Taiwan  81000000\n",
      "1  United States  83000000\n",
      "2       Thailand  24000000\n"
     ]
    }
   ],
   "source": [
    "# 引入Library\n",
    "import pandas as pd\n",
    "import numpy as np\n",
    "\n",
    "# 創建DataFrame\n",
    "data = {'國家': ['Taiwan', 'United States', 'Thailand'],\n",
    "        '人口': np.random.randint(100, size = 3) * 1000000}\n",
    "dataFrame = pd.DataFrame(data)\n",
    "print(dataFrame)"
   ]
  },
  {
   "cell_type": "code",
   "execution_count": 33,
   "metadata": {},
   "outputs": [
    {
     "name": "stdout",
     "output_type": "stream",
     "text": [
      "人口數最多為 United States 的 83000000 人\n"
     ]
    }
   ],
   "source": [
    "# 取出人口數最多的國家\n",
    "# maxValue = dataFrame.loc[:,'人口'].max()\n",
    "maxValue = dataFrame['人口'].max()\n",
    "country = dataFrame.iloc[dataFrame['人口'].idxmax()]['國家']\n",
    "print(f\"人口數最多為 {country} 的 {maxValue} 人\")"
   ]
  }
 ],
 "metadata": {
  "kernelspec": {
   "display_name": "Python 3",
   "language": "python",
   "name": "python3"
  },
  "language_info": {
   "codemirror_mode": {
    "name": "ipython",
    "version": 3
   },
   "file_extension": ".py",
   "mimetype": "text/x-python",
   "name": "python",
   "nbconvert_exporter": "python",
   "pygments_lexer": "ipython3",
   "version": "3.7.6"
  }
 },
 "nbformat": 4,
 "nbformat_minor": 2
}
